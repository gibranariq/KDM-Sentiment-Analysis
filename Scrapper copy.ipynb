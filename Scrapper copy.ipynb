{
  "cells": [
    {
      "cell_type": "markdown",
      "metadata": {
        "id": "xEWpayxURuUn"
      },
      "source": [
        "# Crawl Data Twitter > 2000 Tweets\n",
        "The crawling process was done using Tweet-Harvest. Written by Helmi Satria on  March 30th 2024.\n",
        "\n"
      ]
    },
    {
      "cell_type": "code",
      "execution_count": 7,
      "metadata": {},
      "outputs": [],
      "source": [
        "import subprocess\n",
        "import time"
      ]
    },
    {
      "cell_type": "code",
      "execution_count": 8,
      "metadata": {
        "id": "6S00x_f6-GeD"
      },
      "outputs": [],
      "source": [
        "#@title Twitter Auth Token\n",
        "\n",
        "twitter_auth_token = ''"
      ]
    },
    {
      "cell_type": "code",
      "execution_count": 9,
      "metadata": {
        "colab": {
          "base_uri": "https://localhost:8080/"
        },
        "id": "LYDR51dJlVlX",
        "outputId": "22f8f472-9fba-4a0c-b660-c3c13845e639"
      },
      "outputs": [
        {
          "name": "stdout",
          "output_type": "stream",
          "text": [
            "Menjalankan perintah: npx --yes tweet-harvest@2.6.1 -o KDM_coba.csv -s dedi mulyadi lang:id since:2025-05-05_00:00:01_UTC until:2025-05-06_00:00:00_UTC --tab LATEST -l 10 --token f257f78e46c7951247014c3ac860bbfb22093642\n",
            "\u001b[1m\u001b[32mTweet Harvest [v2.6.1]\u001b[39m\u001b[22m\n",
            "\u001b[1m\u001b[32m\u001b[39m\u001b[22m\n",
            "\u001b[34mResearch by \u001b[39m\u001b[1m\u001b[34mHelmi Satria\u001b[39m\u001b[22m\u001b[34m\u001b[39m\n",
            "\u001b[34mUse it for Educational Purposes only!\u001b[39m\n",
            "\u001b[34m\u001b[39m\n",
            "\u001b[33mThis script uses Chromium Browser to crawl data from Twitter with \u001b[1myour Twitter auth token\u001b[22m.\u001b[39m\n",
            "\u001b[33mPlease enter your Twitter auth token when prompted.\u001b[39m\n",
            "\u001b[33m\u001b[39m\n",
            "\u001b[31m\u001b[1mNote:\u001b[22m\u001b[39m Keep your access token secret! Don't share it with anyone else.\n",
            "\u001b[31m\u001b[1mNote:\u001b[22m\u001b[39m This script only runs on your local device.\n",
            "\n",
            "\u001b[34m\u001b[39m\n",
            "\u001b[34mOpening twitter search page...\u001b[39m\n",
            "\u001b[34m\u001b[39m\n",
            "\u001b[33m\u001b[39m\n",
            "\u001b[33mFilling in keywords: dedi mulyadi lang:id since:2025-05-05_00:00:01_UTC until:2025-05-06_00:00:00_UTC\u001b[39m\n",
            "\u001b[33m\u001b[39m\n",
            "\u001b[34m\u001b[39m\n",
            "\u001b[34m\u001b[39m\n",
            "\u001b[34mYour tweets saved to: /Users/gibranariq/Documents/project/KDM-Sentiment-Analysis/tweets-data/KDM_coba.csv\u001b[39m\n",
            "\u001b[33mTotal tweets saved: 17\u001b[39m\n",
            "Got 17 tweets, done scrolling...\n",
            "\n",
            "\n",
            "Crawl selesai.\n"
          ]
        }
      ],
      "source": [
        "import subprocess\n",
        "import time\n",
        "\n",
        "filename = 'KDM_coba.csv'\n",
        "search_keyword = 'dedi mulyadi lang:id since:2025-05-05_00:00:01_UTC until:2025-05-06_00:00:00_UTC'\n",
        "limit = 10\n",
        "\n",
        "while True:\n",
        "    try:\n",
        "        command = [\n",
        "            \"npx\", \"--yes\", \"tweet-harvest@2.6.1\",\n",
        "            \"-o\", filename,\n",
        "            \"-s\", search_keyword,\n",
        "            \"--tab\", \"LATEST\",\n",
        "            \"-l\", str(limit),\n",
        "            \"--token\", twitter_auth_token\n",
        "        ]\n",
        "        print(f\"Menjalankan perintah: {' '.join(command)}\")\n",
        "        result = subprocess.run(command, capture_output=True, text=True)\n",
        "        \n",
        "        # Print stdout dan stderr supaya kamu bisa lihat hasil dan error\n",
        "        print(result.stdout)\n",
        "        print(result.stderr)\n",
        "\n",
        "        # Cek apakah ada pesan rate limit\n",
        "        if \"rate limit\" in result.stderr.lower() or \"rate limit\" in result.stdout.lower():\n",
        "            print(\"Rate limit terdeteksi. Menunggu 10 menit sebelum mencoba ulang...\")\n",
        "            time.sleep(10 * 60)\n",
        "        else:\n",
        "            print(\"Crawl selesai.\")\n",
        "            break\n",
        "\n",
        "    except Exception as e:\n",
        "        print(f\"Terjadi error: {e}\")\n",
        "        print(\"Menunggu 5 menit sebelum mencoba ulang...\")\n",
        "        time.sleep(5 * 60)\n"
      ]
    },
    {
      "cell_type": "code",
      "execution_count": null,
      "metadata": {
        "colab": {
          "base_uri": "https://localhost:8080/"
        },
        "id": "eRfDl54waHC4",
        "outputId": "5034b46e-6f28-4ece-9c67-bbf441ff85cc"
      },
      "outputs": [
        {
          "name": "stdout",
          "output_type": "stream",
          "text": [
            "Jumlah tweet dalam dataframe adalah 2845.\n"
          ]
        }
      ],
      "source": [
        "# Cek jumlah data yang didapatkan\n",
        "\n",
        "num_tweets = len(filename.splitlines()) - 1  # Mengurangi 1 untuk header\n",
        "print(f\"Jumlah tweet dalam dataframe adalah {num_tweets}.\")"
      ]
    }
  ],
  "metadata": {
    "colab": {
      "provenance": []
    },
    "kernelspec": {
      "display_name": "Python 3",
      "name": "python3"
    },
    "language_info": {
      "codemirror_mode": {
        "name": "ipython",
        "version": 3
      },
      "file_extension": ".py",
      "mimetype": "text/x-python",
      "name": "python",
      "nbconvert_exporter": "python",
      "pygments_lexer": "ipython3",
      "version": "3.12.0"
    }
  },
  "nbformat": 4,
  "nbformat_minor": 0
}
