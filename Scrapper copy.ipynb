{
  "cells": [
    {
      "cell_type": "markdown",
      "metadata": {
        "id": "xEWpayxURuUn"
      },
      "source": [
        "# Crawl Data Twitter > 2000 Tweets\n",
        "The crawling process was done using Tweet-Harvest. Written by Helmi Satria on  March 30th 2024.\n",
        "\n"
      ]
    },
    {
      "cell_type": "code",
      "execution_count": null,
      "metadata": {},
      "outputs": [],
      "source": [
        "import subprocess\n",
        "import time"
      ]
    },
    {
      "cell_type": "code",
      "execution_count": null,
      "metadata": {
        "id": "6S00x_f6-GeD"
      },
      "outputs": [],
      "source": [
        "#@title Twitter Auth Token\n",
        "\n",
        "twitter_auth_token = ''"
      ]
    },
    {
      "cell_type": "code",
      "execution_count": null,
      "metadata": {
        "colab": {
          "base_uri": "https://localhost:8080/"
        },
        "id": "LYDR51dJlVlX",
        "outputId": "22f8f472-9fba-4a0c-b660-c3c13845e639"
      },
      "outputs": [],
      "source": [
        "import subprocess\n",
        "import time\n",
        "\n",
        "filename = 'KDM_coba.csv'\n",
        "search_keyword = 'dedi mulyadi lang:id since:2025-05-05_00:00:01_UTC until:2025-05-06_00:00:00_UTC'\n",
        "limit = 10\n",
        "\n",
        "while True:\n",
        "    try:\n",
        "        command = [\n",
        "            \"npx\", \"--yes\", \"tweet-harvest@2.6.1\",\n",
        "            \"-o\", filename,\n",
        "            \"-s\", search_keyword,\n",
        "            \"--tab\", \"LATEST\",\n",
        "            \"-l\", str(limit),\n",
        "            \"--token\", twitter_auth_token\n",
        "        ]\n",
        "        print(f\"Menjalankan perintah: {' '.join(command)}\")\n",
        "        result = subprocess.run(command, capture_output=True, text=True)\n",
        "        \n",
        "        # Print stdout dan stderr supaya kamu bisa lihat hasil dan error\n",
        "        print(result.stdout)\n",
        "        print(result.stderr)\n",
        "\n",
        "        # Cek apakah ada pesan rate limit\n",
        "        if \"rate limit\" in result.stderr.lower() or \"rate limit\" in result.stdout.lower():\n",
        "            print(\"Rate limit terdeteksi. Menunggu 10 menit sebelum mencoba ulang...\")\n",
        "            time.sleep(10 * 60)\n",
        "        else:\n",
        "            print(\"Crawl selesai.\")\n",
        "            break\n",
        "\n",
        "    except Exception as e:\n",
        "        print(f\"Terjadi error: {e}\")\n",
        "        print(\"Menunggu 5 menit sebelum mencoba ulang...\")\n",
        "        time.sleep(5 * 60)\n"
      ]
    },
    {
      "cell_type": "code",
      "execution_count": null,
      "metadata": {
        "colab": {
          "base_uri": "https://localhost:8080/"
        },
        "id": "eRfDl54waHC4",
        "outputId": "5034b46e-6f28-4ece-9c67-bbf441ff85cc"
      },
      "outputs": [],
      "source": [
        "# Cek jumlah data yang didapatkan\n",
        "\n",
        "num_tweets = len(filename.splitlines()) - 1  # Mengurangi 1 untuk header\n",
        "print(f\"Jumlah tweet dalam dataframe adalah {num_tweets}.\")"
      ]
    }
  ],
  "metadata": {
    "colab": {
      "provenance": []
    },
    "kernelspec": {
      "display_name": "Python 3",
      "name": "python3"
    },
    "language_info": {
      "codemirror_mode": {
        "name": "ipython",
        "version": 3
      },
      "file_extension": ".py",
      "mimetype": "text/x-python",
      "name": "python",
      "nbconvert_exporter": "python",
      "pygments_lexer": "ipython3",
      "version": "3.12.0"
    }
  },
  "nbformat": 4,
  "nbformat_minor": 0
}
